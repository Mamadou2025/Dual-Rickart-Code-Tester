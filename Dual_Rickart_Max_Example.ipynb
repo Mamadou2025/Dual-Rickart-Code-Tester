{
  "nbformat": 4,
  "nbformat_minor": 0,
  "metadata": {
    "colab": {
      "provenance": [],
      "authorship_tag": "ABX9TyNxno6hVXumi9CFeSs3SDe4",
      "include_colab_link": true
    },
    "kernelspec": {
      "name": "python3",
      "display_name": "Python 3"
    },
    "language_info": {
      "name": "python"
    }
  },
  "cells": [
    {
      "cell_type": "markdown",
      "metadata": {
        "id": "view-in-github",
        "colab_type": "text"
      },
      "source": [
        "<a href=\"https://colab.research.google.com/github/Mamadou2025/Dual-Rickart-Code-Tester/blob/main/Dual_Rickart_Max_Example.ipynb\" target=\"_parent\"><img src=\"https://colab.research.google.com/assets/colab-badge.svg\" alt=\"Open In Colab\"/></a>"
      ]
    },
    {
      "cell_type": "code",
      "execution_count": 1,
      "metadata": {
        "colab": {
          "base_uri": "https://localhost:8080/"
        },
        "id": "rKaCh2w0l0Tf",
        "outputId": "0c080e0b-5b72-43b8-a742-23c32a2ba713"
      },
      "outputs": [
        {
          "output_type": "stream",
          "name": "stdout",
          "text": [
            "\n",
            "Function       Idempotent   Image           Extended Image     Kernel          i-regular\n",
            "-------------------------------------------------------------------------------------\n",
            "(0, 0, 0)       | Yes        | {0}           | {0}              | {0, 1, 2}     | Yes\n",
            "(0, 0, 1)       | No         | {0, 1}        | {0, 1}           | {0, 1}        | Yes\n",
            "(0, 0, 2)       | Yes        | {0, 2}        | {0, 1, 2}        | {0, 1}        | No\n",
            "(0, 1, 1)       | Yes        | {0, 1}        | {0, 1}           | {0}           | Yes\n",
            "(0, 1, 2)       | Yes        | {0, 1, 2}     | {0, 1, 2}        | {0}           | Yes\n",
            "(0, 2, 2)       | Yes        | {0, 2}        | {0, 1, 2}        | {0}           | No\n",
            "\n",
            "Final Result:\n",
            "M is Dual weak Rickart: Yes\n"
          ]
        }
      ],
      "source": [
        "from itertools import product\n",
        "\n",
        "def is_endomorphism(f, M):\n",
        "    \"\"\"Checks if f preserves the max operation.\"\"\"\n",
        "    return all(f[max(x, y)] == max(f[x], f[y]) for x, y in product(M, repeat=2))\n",
        "\n",
        "def is_idempotent(f, M):\n",
        "    \"\"\"Checks if f ∘ f = f.\"\"\"\n",
        "    return all(f[f[x]] == f[x] for x in M)\n",
        "\n",
        "def direct_image(f, M):\n",
        "    \"\"\"Computes the direct image of f.\"\"\"\n",
        "    return {f[x] for x in M}\n",
        "\n",
        "def extended_image(f, M):\n",
        "    \"\"\"Computes the closure of the image under max.\"\"\"\n",
        "    im_f = direct_image(f, M)\n",
        "    return {y for y in M if any(max(y, f[x]) in im_f for x in M)}\n",
        "\n",
        "def kernel(f, M):\n",
        "    \"\"\"Computes the kernel of f (values x where f(x) = 0).\"\"\"\n",
        "    return {x for x in M if f[x] == 0}\n",
        "\n",
        "def generate_valid_functions(M):\n",
        "    \"\"\"Generates all valid endomorphism functions.\"\"\"\n",
        "    functions = []\n",
        "    for f_vals in product(M, repeat=len(M)):\n",
        "        f = dict(enumerate(f_vals))\n",
        "        if f[0] == 0 and is_endomorphism(f, M):\n",
        "            functions.append(f)\n",
        "    return functions\n",
        "\n",
        "def analyze_functions(M):\n",
        "    \"\"\"Displays analysis and checks the Dual weak Rickart property.\"\"\"\n",
        "    valid_functions = generate_valid_functions(M)\n",
        "    idempotents = [g for g in valid_functions if is_idempotent(g, M)]\n",
        "\n",
        "    # Display table\n",
        "    print(\"\\nFunction\".ljust(15), \"Idempotent\".ljust(12), \"Image\".ljust(15),\n",
        "          \"Extended Image\".ljust(18), \"Kernel\".ljust(15), \"i-regular\")\n",
        "    print(\"-\" * 85)\n",
        "\n",
        "    for f in valid_functions:\n",
        "        f_tuple = tuple(f[i] for i in sorted(M))\n",
        "        im = direct_image(f, M)\n",
        "        im_et = extended_image(f, M)\n",
        "        ker = kernel(f, M)\n",
        "\n",
        "        line = f\"{str(f_tuple).ljust(15)} | \"\n",
        "        line += f\"{'Yes'.ljust(10) if is_idempotent(f, M) else 'No'.ljust(10)} | \"\n",
        "        line += f\"{str(im).ljust(13)} | \"\n",
        "        line += f\"{str(im_et).ljust(16)} | \"\n",
        "        line += f\"{str(ker).ljust(13)} | \"\n",
        "        line += \"Yes\" if im == im_et else \"No\"  # i-regular logic\n",
        "        print(line)\n",
        "\n",
        "    # Check Dual weak Rickart property\n",
        "    is_dual_weak_rickart = True\n",
        "    for f in valid_functions:\n",
        "        im_et_f = extended_image(f, M)\n",
        "        # Check if there exists an idempotent g such that im_et_f == kernel(g)\n",
        "        if not any(im_et_f == kernel(g, M) for g in idempotents):\n",
        "            is_dual_weak_rickart = False\n",
        "            break\n",
        "\n",
        "    print(\"\\nFinal Result:\")\n",
        "    print(\"M is Dual weak Rickart:\", \"Yes\" if is_dual_weak_rickart else \"No\")\n",
        "\n",
        "# Example usage\n",
        "n = 2  # You can modify n\n",
        "M = list(range(n + 1))\n",
        "analyze_functions(M)"
      ]
    },
    {
      "cell_type": "markdown",
      "source": [
        "HOW TO USE THIS CODE Choose your n, then press the Run button to execute. Result for n=2\n",
        "\n",
        "![ddd.PNG](data:image/png;base64,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)"
      ],
      "metadata": {
        "id": "lp5IvvNZuCHJ"
      }
    },
    {
      "cell_type": "markdown",
      "source": [
        "Dual Rickart Properties for Semimodules\n",
        "\n",
        "This Python implementation is designed to test the dual weak Rickart property for semimodules over natural numbers using the MAX operation. The script leverages the combinatorial functionality of the itertools library to analyze all possible functions on the finite set M = {0, 1, ..., n}, where n is a user-defined input.\n",
        "\n",
        "Functional Highlights:\n",
        "\n",
        "Endomorphism Validation: Functions f: M → M are filtered based on two criteria:\n",
        "\n",
        "f(0) = 0, ensuring that zero maps to zero.\n",
        "Preservation of the MAX operation: f(max(x, y)) = max(f(x), f(y)), for all x, y ∈ M.\n",
        "Idempotency Check: The function checks if f(f(x)) = f(x), identifying idempotent functions within the set of valid endomorphisms.\n",
        "\n",
        "Extended Image Calculation: The algorithm calculates the extended image of a function f using the logic that a value y ∈ M belongs to the extended image if there exists x1, x2 ∈ M such that max(y, f(x1)) = f(x2).\n",
        "\n",
        "Classification of Semimodules:\n",
        "\n",
        "Dual Dual Rickart (Type 2): Determines if every function f has an associated idempotent function g such proper image of f coincides with kernel of g.\n",
        "Dual Dual Rickart (Type 1): Examines whether the extended image of f matches the kernel of g.\n",
        "Performance: The runtime of the program depends exponentially on n, as all possible functions are generated and verified. Computational resources provided by Python's runtime environment are critical.\n",
        "\n",
        "DESCRIPTION OF THE ALGORITHM\n",
        "\n",
        "Checking the Dual Rickart and Baer Properties for Semimodules. The Google Colab notebook associated with this study provides a complete implementation of the algorithm used to test the dual weak Rickart property for semimodules defined over the natural numbers with the MAX operation. The notebook allows the user to input a natural number n, generate all valid endomorphisms on the finite set M = {0, 1, ..., n}, analyze their algebraic properties, and determine whether the structure satisfies the dual weak Rickart condition. The computational process includes checking for idempotency, computing the kernel, direct image, extended image, and i-regularity of each function. Since the number of possible functions increases exponentially with n, the runtime and performance of the notebook are dependent on the computational resources provided by Google Colab. Here's a concise summary of the pseudocode: Algorithm Overview: Input: A non-negative integer n defines the set M = {0, 1, ..., n}. Output: A list of valid endomorphisms on M, their algebraic properties, and whether M satisfies the dual weak Rickart property. Steps:\n",
        "\n",
        "Initialize the Set: Define M as {0, 1, ..., n}.\n",
        "\n",
        "Generate Valid Functions: Identify functions f: M → M that (a) map 0 → 0 and (b) preserve the GCD operation.\n",
        "\n",
        "Classify Functions:\n",
        "\n",
        "Check for idempotency (f(f(x)) = f(x)).\n",
        "\n",
        "Compute and store the image, extended image, kernel, and check i-regularity (image = extended image).\n",
        "\n",
        "\n",
        "Test Dual Weak Rickart Property:\n",
        "\n",
        "Verify if, for every function f, there exists an idempotent function g such that the extended image of f equals the kernel of g.\n",
        "\n",
        "If all functions satisfy this, M has the dual weak Rickart property.\n",
        "\n",
        "Output Results: Provide the analysis of each function and report whether M satisfies the property."
      ],
      "metadata": {
        "id": "GixFLjZGB1KX"
      }
    }
  ]
}