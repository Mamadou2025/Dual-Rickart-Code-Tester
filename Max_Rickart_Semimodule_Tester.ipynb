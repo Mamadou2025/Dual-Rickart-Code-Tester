{
  "nbformat": 4,
  "nbformat_minor": 0,
  "metadata": {
    "colab": {
      "provenance": [],
      "authorship_tag": "ABX9TyNSX/ZDpGGv3XtlZRl+Ue0h",
      "include_colab_link": true
    },
    "kernelspec": {
      "name": "python3",
      "display_name": "Python 3"
    },
    "language_info": {
      "name": "python"
    }
  },
  "cells": [
    {
      "cell_type": "markdown",
      "metadata": {
        "id": "view-in-github",
        "colab_type": "text"
      },
      "source": [
        "<a href=\"https://colab.research.google.com/github/Mamadou2025/Dual-Rickart-Code-Tester/blob/main/Max_Rickart_Semimodule_Tester.ipynb\" target=\"_parent\"><img src=\"https://colab.research.google.com/assets/colab-badge.svg\" alt=\"Open In Colab\"/></a>"
      ]
    },
    {
      "cell_type": "code",
      "execution_count": null,
      "metadata": {
        "id": "DsUTwNBI_1Y1"
      },
      "outputs": [],
      "source": [
        "from itertools import product\n",
        "\n",
        "def is_endomorphism(f, M):\n",
        "    \"\"\"VÃ©rifie si f prÃ©serve l'opÃ©ration max\"\"\"\n",
        "    return all(f[max(x, y)] == max(f[x], f[y]) for x, y in product(M, repeat=2))\n",
        "\n",
        "def is_idempotent(f, M):\n",
        "    \"\"\"VÃ©rifie si f âˆ˜ f = f\"\"\"\n",
        "    return all(f[f[x]] == f[x] for x in M)\n",
        "\n",
        "def direct_image(f, M):\n",
        "    \"\"\"Calcule l'image directe de f\"\"\"\n",
        "    return {f[x] for x in M}\n",
        "\n",
        "def extended_image(f, M):\n",
        "    \"\"\"Calcule l'image Ã©tendue sous max\"\"\"\n",
        "    im_f = direct_image(f, M)\n",
        "    return {y for y in M if any(max(y, f[x]) in im_f for x in M)}\n",
        "\n",
        "def kernel(f, M):\n",
        "    \"\"\"Calcule le noyau de f (valeurs oÃ¹ f(x) = 0)\"\"\"\n",
        "    return {x for x in M if f[x] == 0}\n",
        "\n",
        "def generate_valid_functions(M):\n",
        "    \"\"\"GÃ©nÃ¨re tous les endomorphismes valides\"\"\"\n",
        "    functions = []\n",
        "    for f_vals in product(M, repeat=len(M)):\n",
        "        f = dict(enumerate(f_vals))\n",
        "        if f[0] == 0 and is_endomorphism(f, M):\n",
        "            functions.append(f)\n",
        "    return functions\n",
        "\n",
        "def analyze_functions(M):\n",
        "    \"\"\"Affiche un tableau analysant les endomorphismes et vÃ©rifie si M est w-Rickart\"\"\"\n",
        "    valid_functions = generate_valid_functions(M)\n",
        "    idempotents = [g for g in valid_functions if is_idempotent(g, M)]\n",
        "\n",
        "    # Affichage du tableau\n",
        "    print(\"\\nEndomorphisme\".ljust(20), \"Idempotent\".ljust(15), \"Noyau\".ljust(20),\n",
        "          \"Image\".ljust(20), \"Image Ã©tendue\".ljust(20), \"i-rÃ©gulier\")\n",
        "    print(\"-\" * 110)\n",
        "\n",
        "    for f in valid_functions:\n",
        "        f_tuple = tuple(f[i] for i in sorted(M))\n",
        "        im = direct_image(f, M)\n",
        "        im_et = extended_image(f, M)\n",
        "        ker = kernel(f, M)\n",
        "\n",
        "        line = f\"{str(f_tuple).ljust(18)} | \"\n",
        "        line += f\"{'Oui'.ljust(13) if is_idempotent(f, M) else 'Non'.ljust(13)} | \"\n",
        "        line += f\"{str(ker).ljust(18)} | \"\n",
        "        line += f\"{str(im).ljust(18)} | \"\n",
        "        line += f\"{str(im_et).ljust(18)} | \"\n",
        "        line += \"Oui\" if im == im_et else \"Non\"  # VÃ©rification i-rÃ©gulier\n",
        "        print(line)\n",
        "\n",
        "    # VÃ©rification de la propriÃ©tÃ© w-Rickart\n",
        "    is_w_Rickart = True\n",
        "    for f in valid_functions:\n",
        "        im_et_f = extended_image(f, M)\n",
        "        if not any(im_et_f == kernel(g, M) for g in idempotents):\n",
        "            is_w_Rickart = False\n",
        "            break\n",
        "\n",
        "    # Affichage du rÃ©sultat final\n",
        "    print(\"\\nConclusion :\")\n",
        "    print(\"M est un semi-module w-Rickart :\", \"Oui\" if is_w_Rickart else \"Non\")\n",
        "\n",
        "# Exemple d'utilisation\n",
        "n = 2  # Tu peux modifier la taille de l'ensemble\n",
        "M = list(range(n + 1))\n",
        "analyze_functions(M)\n"
      ]
    }
  ]
}